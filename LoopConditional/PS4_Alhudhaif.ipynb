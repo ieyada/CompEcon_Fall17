{
 "cells": [
  {
   "cell_type": "code",
   "execution_count": 20,
   "metadata": {
    "collapsed": true
   },
   "outputs": [],
   "source": [
    "# import packages we'll use here\n",
    "import pandas as pd\n",
    "import numpy as np\n",
    "import scipy.optimize as opt\n",
    "import time\n",
    "import math\n",
    "from scipy.optimize import differential_evolution\n",
    "from geopy.distance import vincenty as vc\n",
    "from scipy.stats import gaussian_kde"
   ]
  },
  {
   "cell_type": "code",
   "execution_count": 21,
   "metadata": {
    "collapsed": true
   },
   "outputs": [],
   "source": [
    "# Read in the data\n",
    "ps4_data = pd.read_excel('radio_merger_data.xlsx')"
   ]
  },
  {
   "cell_type": "code",
   "execution_count": 22,
   "metadata": {
    "collapsed": true
   },
   "outputs": [],
   "source": [
    "# Scale variables\n",
    "ps4_data['pop_ths_log'] = np.log(ps4_data['population_target'] / 1000)\n",
    "ps4_data['price_ths_log'] = np.log(ps4_data['price'] / 1000)"
   ]
  },
  {
   "cell_type": "code",
   "execution_count": 23,
   "metadata": {},
   "outputs": [],
   "source": [
    "#Importing the dataframe into a matrix. But first, I need to define a list of the variables to import from the dataframe\n",
    "list1=['year','buyer_id', 'target_id','buyer_lat', 'buyer_long', 'target_lat','target_long', 'num_stations_buyer', 'corp_owner_buyer','pop_ths_log', 'price_ths_log' ]\n",
    "\n",
    "mat=ps4_data.as_matrix(columns= list1)"
   ]
  },
  {
   "cell_type": "code",
   "execution_count": 24,
   "metadata": {
    "collapsed": true
   },
   "outputs": [],
   "source": [
    "#Creating a list of years, so I can use it as an input in my functions\n",
    "years=[2007, 2008]"
   ]
  },
  {
   "cell_type": "code",
   "execution_count": 43,
   "metadata": {
    "collapsed": true
   },
   "outputs": [],
   "source": [
    "# Define a function to calculate the distance between buyer and target by indicating the row\n",
    "# for the buyer and the row of the target. column 3 is the buyer's latitute in the matrix, and column 5 is the target's\n",
    "# latitute in the matrix\n",
    "def distance_calc (dataset,rowb,rowt, yr):\n",
    "    data = dataset[dataset[:,0] == yr]\n",
    "    start = (data[rowb-1,3], data[rowb-1,4])\n",
    "    stop = (data[rowt-1,5], data[rowt-1,6])\n",
    "    return np.log(vc(start, stop).miles)"
   ]
  },
  {
   "cell_type": "code",
   "execution_count": 44,
   "metadata": {
    "collapsed": true
   },
   "outputs": [],
   "source": [
    "# Define a function that calculates the f(b,t) by specifiying the buyer's position and the target's position\n",
    "# Thus, this function can calculate f(b,t), f(b',t), f(b,t'), and f(b',t')\n",
    "#The function usues the list of coeffecients (coef) to run the following model:\n",
    "#f(b,t) = X.y + alpha x.y + beta distance\n",
    "def func(dataset,coef, bpos, tpos, yr):\n",
    "    # So the function won't take observations from another year, I have to create a temporary matrix based on a \n",
    "    # specific year\n",
    "    data = dataset[dataset[:,0] == yr]\n",
    "    ob1 = data[bpos-1,7] * data[tpos-1,9]\n",
    "    ob2 = data[bpos-1,8] * data[tpos-1,9]\n",
    "    ob3 = distance_calc(data, bpos, tpos, yr)\n",
    "    value = ob1 + coef[0] * ob2 + coef[1] * ob3\n",
    "    return value"
   ]
  },
  {
   "cell_type": "code",
   "execution_count": 45,
   "metadata": {
    "collapsed": true
   },
   "outputs": [],
   "source": [
    "#This function creates a matrix of values \"F(b,t)\" for every combination of buyer and target per year\n",
    "# Thus, the first element of the matrix is f(1,1) and the last is f(45,45) (for 2007) or f(54,54) (for 2008)\n",
    "def matrix(dataset, yr, coef):\n",
    "    buyer_yr = dict()\n",
    "    f_yr = np.empty\n",
    "    all_buyers = []\n",
    "    data = dataset[dataset[:,0] == yr]   \n",
    "    for b in data[:, 1]:\n",
    "        buy=int(b)\n",
    "        buyer_yr[buy] = []\n",
    "        for t in data[:, 2]:\n",
    "            tar=int(t)\n",
    "            a = func(dataset, coef, buy, tar, yr)\n",
    "            buyer_yr[buy].append(a)\n",
    "        all_buyers.append(buyer_yr[buy])\n",
    "    f_yr = np.stack(all_buyers)\n",
    "    return(f_yr)"
   ]
  },
  {
   "cell_type": "code",
   "execution_count": 34,
   "metadata": {
    "collapsed": true
   },
   "outputs": [],
   "source": [
    "#This function creates a kernel function that has a limit of (0,1). First, you neeed to submit an array (i.e. a matrix\n",
    "# with 1 row and n columns) that has each observation's value (f(b,t)+f(b',t')- f(b',t)-f(b,t')), which will be calculated\n",
    "# inside the function (q))\n",
    "def kernel(x):\n",
    "    b=gaussian_kde(x)\n",
    "    result=b(x)\n",
    "    return result"
   ]
  },
  {
   "cell_type": "code",
   "execution_count": 35,
   "metadata": {},
   "outputs": [],
   "source": [
    "#This function returns the sum of \" f(b,t)+f(b',t')- f(b',t)-f(b,t') \" for each pair for both years\n",
    "\n",
    "def q(coef,dataset, years):\n",
    "    \n",
    "    rhs=[]\n",
    "    \n",
    "    for item in years:\n",
    "        temp=matrix(dataset,item, coef).diagonal()\n",
    "        for i in range(0, len(temp)-1):\n",
    "            b1=temp[i]\n",
    "            for j in range(1, len(temp)):\n",
    "                b2=temp[j]\n",
    "                if j> i:    \n",
    "                    s= b1+ b2\n",
    "                    rhs.append(s)\n",
    "    lhs=[]\n",
    "    \n",
    "    for item in years:\n",
    "        temp=matrix(dataset,item, coef)\n",
    "        for i in range(0, len(temp)-1):\n",
    "            for j in range(1, len(temp)):\n",
    "                if j> i:\n",
    "                    a= temp[i,j]\n",
    "                    b=temp[j,i]\n",
    "                    c= a+b\n",
    "                    lhs.append(c)\n",
    "    left=np.array(lhs)\n",
    "    right=np.array(rhs)\n",
    "    q = (left - right).reshape(1,2421)\n",
    "    q_func=-(sum(kernel(q)))\n",
    "    return q_func"
   ]
  },
  {
   "cell_type": "code",
   "execution_count": 42,
   "metadata": {},
   "outputs": [
    {
     "data": {
      "text/plain": [
       "     fun: -19.745390694113244\n",
       "     jac: array([ -3.90798505e-06,  -1.08002496e-04])\n",
       " message: 'Optimization terminated successfully.'\n",
       "    nfev: 882\n",
       "     nit: 27\n",
       " success: True\n",
       "       x: array([ -2.83614061e+02,  -2.16897974e-01])"
      ]
     },
     "execution_count": 42,
     "metadata": {},
     "output_type": "execute_result"
    }
   ],
   "source": [
    "#The optimization function\n",
    "\n",
    "#NOTE: The optimization runs for a long time, just be patient!!!\n",
    "\n",
    "\n",
    "bnds = ((-50000, 50000),(-50000,50000))\n",
    "mse_results = differential_evolution(q, bnds ,args=(mat, years), maxiter = 100, tol = 0.001)\n",
    "mse_results"
   ]
  },
  {
   "cell_type": "code",
   "execution_count": 46,
   "metadata": {
    "collapsed": true
   },
   "outputs": [],
   "source": [
    "#Results:\n",
    "\n",
    "# With bounds of -9, 9:             -9.        , -0.40865935     fun=-16.036674209963898\n",
    "\n",
    "# With bounds of -50, 50 :         -50.        ,  -0.38278297  fun=-16.836758498106544\n",
    "\n",
    "# With bounds of -500, 500:        -2.83601608e+02,  -2.16379863e-01  fun: -19.745390736141651\n",
    "    \n",
    "# Another -500, 500:               -2.83598838e+02,  -2.16242946e-01  fun:-19.745390734580365\n",
    "\n",
    "#With bounds of -5000, 5000:                -2.83653015e+02,  -2.16163374e-01   fun: -19.745390568701993\n",
    "\n",
    "# With bounds -50000, 50000:         -2.83614061e+02,  -2.16897974e-01    fun: -19.745390694113244\n",
    "\n",
    "\n",
    "#Thus, the coeffecients converge..."
   ]
  },
  {
   "cell_type": "code",
   "execution_count": null,
   "metadata": {
    "collapsed": true
   },
   "outputs": [],
   "source": []
  }
 ],
 "metadata": {
  "kernelspec": {
   "display_name": "Python 3",
   "language": "python",
   "name": "python3"
  },
  "language_info": {
   "codemirror_mode": {
    "name": "ipython",
    "version": 3
   },
   "file_extension": ".py",
   "mimetype": "text/x-python",
   "name": "python",
   "nbconvert_exporter": "python",
   "pygments_lexer": "ipython3",
   "version": "3.6.1"
  }
 },
 "nbformat": 4,
 "nbformat_minor": 2
}
